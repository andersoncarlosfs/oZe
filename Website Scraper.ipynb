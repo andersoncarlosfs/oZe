{
 "cells": [
  {
   "cell_type": "markdown",
   "metadata": {},
   "source": [
    "# Website Scraper"
   ]
  },
  {
   "cell_type": "markdown",
   "metadata": {},
   "source": [
    "## Introduction"
   ]
  },
  {
   "cell_type": "markdown",
   "metadata": {},
   "source": [
    "This notebook presents web scraping tool."
   ]
  },
  {
   "cell_type": "markdown",
   "metadata": {},
   "source": [
    "### User Story: Scraping Websites"
   ]
  },
  {
   "cell_type": "markdown",
   "metadata": {},
   "source": [
    "### Goals"
   ]
  },
  {
   "cell_type": "markdown",
   "metadata": {},
   "source": [
    "1. To retrieve the timetable from the users each hour.\n",
    "    1. To convert timetables into CSV with semicolon as a separator:\n",
    "        - unknown: number\n",
    "        - class: string\n",
    "        - debut: timestamp (seconds)\n",
    "        - fin: timestamp (seconds)\n",
    "        - matiere: string\n",
    "        - nom: string\n",
    "        - prenom: string"
   ]
  },
  {
   "cell_type": "markdown",
   "metadata": {},
   "source": [
    "## Requirements"
   ]
  },
  {
   "cell_type": "markdown",
   "metadata": {},
   "source": [
    "### Imports"
   ]
  },
  {
   "cell_type": "markdown",
   "metadata": {},
   "source": [
    "#### Standard"
   ]
  },
  {
   "cell_type": "code",
   "execution_count": null,
   "metadata": {},
   "outputs": [],
   "source": [
    "from collections import deque\n",
    "from datetime import date, datetime, timedelta\n",
    "from time import sleep"
   ]
  },
  {
   "cell_type": "markdown",
   "metadata": {},
   "source": [
    "#### Third-parties"
   ]
  },
  {
   "cell_type": "markdown",
   "metadata": {},
   "source": [
    "- [requests]('http://docs.python-requests.org/en/master/')\n",
    "- [pandas]('https://pandas.pydata.org/')\n",
    "- [pandas]('https://github.com/mkleehammer/pyodbc/wiki/')"
   ]
  },
  {
   "cell_type": "code",
   "execution_count": null,
   "metadata": {},
   "outputs": [],
   "source": [
    "import pandas\n",
    "import requests\n",
    "import pyodbc"
   ]
  },
  {
   "cell_type": "markdown",
   "metadata": {},
   "source": [
    "## Arguments"
   ]
  },
  {
   "cell_type": "markdown",
   "metadata": {},
   "source": [
    "## Parameters"
   ]
  },
  {
   "cell_type": "markdown",
   "metadata": {},
   "source": [
    "## Classes"
   ]
  },
  {
   "cell_type": "markdown",
   "metadata": {},
   "source": [
    "### oZe"
   ]
  },
  {
   "cell_type": "code",
   "execution_count": null,
   "metadata": {},
   "outputs": [],
   "source": [
    "class oZe:\n",
    "\n",
    "    protocol = 'https://'\n",
    "    credential = {\n",
    "        'username': '',    \n",
    "        'password': ''\n",
    "    }\n",
    "    root = 'enc.hauts-de-seine.fr/'\n",
    "    paths = {\n",
    "        None: '',\n",
    "        'login': 'my.policy', \n",
    "        'users': 'v1/users',\n",
    "        'classes': 'v1/cours/byEleve'\n",
    "    }\n",
    "    timeout = 3600\n",
    "    \n",
    "    @staticmethod\n",
    "    def get(url, timeout = datetime.now().timestamp() + timeout):\n",
    "        '''\n",
    "            Halting the process\n",
    "        '''\n",
    "        while datetime.now().timestamp() < timeout:\n",
    "            '''\n",
    "                Opening a session\n",
    "            '''\n",
    "            session = requests.Session()\n",
    "            try:                \n",
    "                '''\n",
    "                    Sending a request\n",
    "                '''\n",
    "                request = session.get(oZe.url())\n",
    "                '''\n",
    "                    Sending the credential\n",
    "                '''\n",
    "                request = session.post(oZe.url('login'), data = oZe.credential)\n",
    "                '''\n",
    "                    Retrieving data\n",
    "                '''\n",
    "                request = session.get(url)\n",
    "                '''\n",
    "                    Returning content\n",
    "                '''\n",
    "                return pandas.read_json(request.content)\n",
    "            except Exception as e:           \n",
    "                print(type(e))   \n",
    "                print(e.args)\n",
    "                print(e)\n",
    "                continue\n",
    "            finally:\n",
    "                '''\n",
    "                    Closing the session\n",
    "                '''\n",
    "                session.close()\n",
    "        '''\n",
    "            Returning none\n",
    "        '''\n",
    "        return None\n",
    "        \n",
    "    @staticmethod\n",
    "    def url(path = None, api = False):\n",
    "        url = oZe.root\n",
    "        if api:\n",
    "            url = 'api-' + url\n",
    "        return oZe.protocol + url + oZe.paths[path]\n",
    "    \n",
    "    @staticmethod\n",
    "    def users(timeout = datetime.now().timestamp() + timeout):\n",
    "        '''\n",
    "            Building the url\n",
    "        '''\n",
    "        url = oZe.url('users', True)\n",
    "        url = url + '?aUai=0921241Z'\n",
    "        url = url + '&aCategory=Eleve'\n",
    "        \n",
    "        '''\n",
    "            Retrieving the users\n",
    "        '''\n",
    "        data = oZe.get(url, timeout)\n",
    "        '''\n",
    "            Processing the users\n",
    "        '''\n",
    "        data = data[['id','nom', 'prenom']]\n",
    "        '''\n",
    "            Return a list of users\n",
    "        '''\n",
    "        return data.to_dict('records')\n",
    "    \n",
    "    @staticmethod\n",
    "    def timetable(user, timeout = datetime.now().timestamp() + timeout):\n",
    "        '''\n",
    "            Computing the period\n",
    "        '''\n",
    "        today = date.today()\n",
    "        weekday = (today.weekday() + 1) % 7\n",
    "        begin = today - timedelta(days = weekday)\n",
    "        end = today + timedelta(days = -weekday, weeks = 1)\n",
    "        \n",
    "        '''\n",
    "            Building the url\n",
    "        '''\n",
    "        url = oZe.url('classes', True) \n",
    "        url = url + '?ctx_etab=0921241Z&aEleve=' \n",
    "        url = url + user['id'] \n",
    "        url = url + begin.strftime('&aDateDebut=%Y-%m-%dT23:00:00.000Z') \n",
    "        url = url + end.strftime('&aDateFin=%Y-%m-%dT23:00:00.000Z') \n",
    "        url = url + '&aDeletedStatus=0'\n",
    "  \n",
    "        '''\n",
    "            Retrieving the timetable\n",
    "        '''\n",
    "        data = oZe.get(url, timeout)\n",
    "        '''\n",
    "            Processing the timetable\n",
    "        '''\n",
    "        if data is None:\n",
    "            return None\n",
    "            \n",
    "        if data.empty:\n",
    "            return []\n",
    "\n",
    "        data = data[['classes', 'matieres', 'dateDebut', 'dateFin']]\n",
    "       \n",
    "        data['dateDebut'] = pandas.to_datetime(data['dateDebut'], format ='%Y-%m-%dT%H:%M:%SZ').astype('int64')\n",
    "        data['dateDebut'] = data['dateDebut'].apply(lambda x: x // 1000000000)\n",
    "        \n",
    "        data['dateFin'] = pandas.to_datetime( data['dateFin'], format ='%Y-%m-%dT%H:%M:%SZ').astype('int64')\n",
    "        data['dateFin'] = data['dateFin'].apply(lambda x: x // 1000000000)\n",
    "        \n",
    "        data = data['classes'].apply(pandas.Series).merge(data, right_index = True, left_index = True)\n",
    "        data = data.drop([\"classes\"], axis = 1)\n",
    "        data = data.melt(id_vars = ['matieres', 'dateDebut', 'dateFin'], value_name = \"class\")\n",
    "        data = data.drop(\"variable\", axis = 1)\n",
    "        data['class'] = data['class'].apply(lambda x: x['libelle'] if isinstance(x, dict) and 'libelle' in x else None)\n",
    "        \n",
    "        data = data['matieres'].apply(pandas.Series).merge(data, right_index = True, left_index = True)\n",
    "        data = data.drop([\"matieres\"], axis = 1)\n",
    "        data = data.melt(id_vars = ['class', 'dateDebut', 'dateFin'], value_name = \"matiere\")\n",
    "        data = data.drop(\"variable\", axis = 1)\n",
    "        data['matiere'] = data['matiere'].apply(lambda x: x['libelle'] if isinstance(x, dict) and 'libelle' in x else None)\n",
    "        \n",
    "        data['nom'] = user['nom']\n",
    "        \n",
    "        data['prenom'] = user['prenom']\n",
    "\n",
    "        '''\n",
    "            Return a list of classes\n",
    "        '''\n",
    "        return data.to_dict('records')"
   ]
  },
  {
   "cell_type": "markdown",
   "metadata": {},
   "source": [
    "### Database"
   ]
  },
  {
   "cell_type": "code",
   "execution_count": null,
   "metadata": {},
   "outputs": [],
   "source": [
    "class Database:\n",
    "\n",
    "    credential = {\n",
    "        'driver': '{ODBC Driver 17 for SQL Server} ',\n",
    "        'server': '',\n",
    "        'database': '',\n",
    "        'pwd': '',\n",
    "        'autocommit': True\n",
    "    }\n",
    "    table = 'TABLE_SORTIES_JOURNALIERES'\n",
    "    \n",
    "    @staticmethod\n",
    "    def clear(timeout):\n",
    "        '''\n",
    "            Halting the process\n",
    "        '''\n",
    "        while datetime.now().timestamp() < timeout:            \n",
    "            try:\n",
    "                \n",
    "            connection = pyodbc.connect\n",
    "            cursor = connection.cursor()\n",
    "                '''\n",
    "                    Returning the number of deleted rows\n",
    "                '''\n",
    "                return cursor.execute(\"DELETE FROM \" + table).rowcount            \n",
    "            except Exception as e:           \n",
    "                print(type(e))   \n",
    "                print(e.args)\n",
    "                print(e)\n",
    "                continue\n",
    "            finally:\n",
    "                '''\n",
    "                    Closing the session\n",
    "                '''\n",
    "                session.close()\n",
    "        '''\n",
    "            Returning none\n",
    "        '''\n",
    "        return None"
   ]
  },
  {
   "cell_type": "markdown",
   "metadata": {},
   "source": [
    "## Methods"
   ]
  },
  {
   "cell_type": "markdown",
   "metadata": {},
   "source": [
    "## Program"
   ]
  },
  {
   "cell_type": "code",
   "execution_count": null,
   "metadata": {},
   "outputs": [],
   "source": [
    "while True:\n",
    "    '''\n",
    "        Computing the halting time\n",
    "    '''\n",
    "    halt = datetime.now().timestamp() + oZe.timeout\n",
    "    '''\n",
    "        Retrieving the users\n",
    "    '''\n",
    "    users = deque(oZe.users(halt))\n",
    "    '''\n",
    "        Computing the halting time per request\n",
    "    '''\n",
    "    time = (halt - datetime.now().timestamp()) / len(users)\n",
    "    '''\n",
    "        ?\n",
    "    ''' \n",
    "    data = pandas.DataFrame()\n",
    "    '''\n",
    "        Processing the users        \n",
    "    ''' \n",
    "    while users:\n",
    "        '''\n",
    "            Popping a user\n",
    "        ''' \n",
    "        user = users.pop()\n",
    "        '''\n",
    "            Retrieving the timetables\n",
    "        '''      \n",
    "        classes = oZe.timetable(user, datetime.now().timestamp() + time)  \n",
    "        '''\n",
    "            ?\n",
    "        '''\n",
    "        data = data.append(pandas.DataFrame.from_dict(classes))\n",
    "        '''\n",
    "            Appending a user\n",
    "        ''' \n",
    "        if classes is None:\n",
    "            users.appendleft(user) \n",
    "    '''\n",
    "        Halting the process\n",
    "    '''\n",
    "    while datetime.now().timestamp() < halt:\n",
    "        try:\n",
    "            '''\n",
    "                Persisting the timetables\n",
    "            '''\n",
    "            data.to_csv('classes.csv', sep = ';', encoding='utf-8-sig')\n",
    "            '''\n",
    "                Continuing the process\n",
    "            '''\n",
    "            break\n",
    "        except PermissionError as e:           \n",
    "            print(type(e))   \n",
    "            print(e.args)\n",
    "            print(e)\n",
    "            continue\n",
    "    '''\n",
    "        Waiting next process\n",
    "    '''\n",
    "    time = halt - datetime.now().timestamp()\n",
    "    if time < 0:\n",
    "        time = 0\n",
    "    sleep(time)"
   ]
  },
  {
   "cell_type": "markdown",
   "metadata": {},
   "source": [
    "## Execution"
   ]
  },
  {
   "cell_type": "markdown",
   "metadata": {},
   "source": [
    "This web scraping tool is a script. In order to execute this notebook as a script, it is necessary to convert this notebook into executable script."
   ]
  },
  {
   "cell_type": "markdown",
   "metadata": {},
   "source": [
    "## Evaluation"
   ]
  },
  {
   "cell_type": "markdown",
   "metadata": {},
   "source": [
    "## Observations"
   ]
  },
  {
   "cell_type": "markdown",
   "metadata": {},
   "source": [
    "- Some classes do not have a value, a code or an idetifier.\n",
    "- oZe uses the Coordinated Universal Time (UTC) for temporal values"
   ]
  },
  {
   "cell_type": "markdown",
   "metadata": {},
   "source": [
    "## Lessons learned"
   ]
  },
  {
   "cell_type": "markdown",
   "metadata": {},
   "source": [
    "## References"
   ]
  },
  {
   "cell_type": "code",
   "execution_count": null,
   "metadata": {},
   "outputs": [],
   "source": []
  }
 ],
 "metadata": {
  "kernelspec": {
   "display_name": "Python 3",
   "language": "python",
   "name": "python3"
  },
  "language_info": {
   "codemirror_mode": {
    "name": "ipython",
    "version": 3
   },
   "file_extension": ".py",
   "mimetype": "text/x-python",
   "name": "python",
   "nbconvert_exporter": "python",
   "pygments_lexer": "ipython3",
   "version": "3.7.1"
  }
 },
 "nbformat": 4,
 "nbformat_minor": 2
}
